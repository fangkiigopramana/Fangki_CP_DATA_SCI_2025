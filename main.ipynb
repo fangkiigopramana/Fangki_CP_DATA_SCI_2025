{
  "nbformat": 4,
  "nbformat_minor": 0,
  "metadata": {
    "colab": {
      "provenance": [],
      "collapsed_sections": [
        "JF-5W6tiSMzt",
        "XuifnFZKPkVI",
        "BmNSo9RfMHi6",
        "fZbk0o_uMOP5",
        "BYWoGtMgRoKY"
      ],
      "mount_file_id": "17o7bG8rS60rMgIbNnj1jTHMc-rbnpKkg",
      "authorship_tag": "ABX9TyMH+OZOJvtRfBlDMXFuHEyL",
      "include_colab_link": true
    },
    "kernelspec": {
      "name": "python3",
      "display_name": "Python 3"
    },
    "language_info": {
      "name": "python"
    }
  },
  "cells": [
    {
      "cell_type": "markdown",
      "metadata": {
        "id": "view-in-github",
        "colab_type": "text"
      },
      "source": [
        "<a href=\"https://colab.research.google.com/github/fangkiigopramana/Fangki_CP_DATA_SCI_2025/blob/main/main.ipynb\" target=\"_parent\"><img src=\"https://colab.research.google.com/assets/colab-badge.svg\" alt=\"Open In Colab\"/></a>"
      ]
    },
    {
      "cell_type": "markdown",
      "source": [
        "# 🛒 **Materials**"
      ],
      "metadata": {
        "id": "AzJNVmYPOVBi"
      }
    },
    {
      "cell_type": "markdown",
      "source": [
        "## **Data Cleaning Code**"
      ],
      "metadata": {
        "id": "JF-5W6tiSMzt"
      }
    },
    {
      "cell_type": "code",
      "source": [
        "import pandas as pd\n",
        "import re\n",
        "import json\n",
        "import pprint\n",
        "\n",
        "# --- KONFIGURASI ---\n",
        "# Ganti dengan path lokasi file CSV\n",
        "FILE_INPUT = '/content/drive/MyDrive/dataset/debate.csv'\n",
        "FILE_OUTPUT = '/content/drive/MyDrive/dataset/debate_cleaned.json'\n",
        "\n",
        "# Speaker yang ingin dianalisis.\n",
        "SPEAKERS_TO_KEEP = ['Trump', 'Clinton']\n",
        "\n",
        "\n",
        "def clean_debate_text(text):\n",
        "    \"\"\"\n",
        "    Cleaning the transcript text.\n",
        "    \"\"\"\n",
        "    text = str(text)\n",
        "\n",
        "    # 1. Hapus teks non-verbal dalam tanda kurung, seperti (APPLAUSE)\n",
        "    text = re.sub(r'\\s*\\(.*?\\)\\s*', ' ', text)\n",
        "\n",
        "    # 2. Ubah ke lowercase\n",
        "    text = text.lower()\n",
        "\n",
        "    # 3. Hapus tanda baca\n",
        "    text = re.sub(r'[^\\w\\s]', '', text)\n",
        "\n",
        "    # 4. Hapus spasi berlebih\n",
        "    text = re.sub(r'\\s+', ' ', text).strip()\n",
        "\n",
        "    return text\n",
        "\n",
        "# --- PROSES UTAMA ---\n",
        "\n",
        "# 1. Load data dari CSV\n",
        "try:\n",
        "    # Read file dengan encoding 'latin-1'\n",
        "    df = pd.read_csv(FILE_INPUT, encoding='latin-1')\n",
        "except FileNotFoundError:\n",
        "    print(f\"Error: File '{FILE_INPUT}' tidak ditemukan. Pastikan file ada di folder yang sama.\")\n",
        "    exit()\n",
        "\n",
        "# 2. Filter baris berdasarkan Speaker yang telah ditentukan\n",
        "df_filtered = df[df['Speaker'].isin(SPEAKERS_TO_KEEP)].copy()\n",
        "\n",
        "\n",
        "# 3. Menerapkan function clean_debate_text\n",
        "df_filtered['text_cleaned'] = df_filtered['Text'].apply(clean_debate_text)\n",
        "\n",
        "\n",
        "# 4. Hapus baris yang teksnya menjadi kosong\n",
        "df_cleaned = df_filtered[df_filtered['text_cleaned'] != ''].copy()\n",
        "\n",
        "# 5. Ubah ke Format List of Dictionaries dan Simpan sebagai JSON\n",
        "\n",
        "# a. Pilih hanya kolom yang relevan\n",
        "df_final = df_cleaned[['Speaker', 'text_cleaned','Date']]\n",
        "\n",
        "# b. Ubah nama kolom agar sesuai dengan output\n",
        "df_final = df_final.rename(columns={\n",
        "    'Speaker': 'speaker',\n",
        "    'text_cleaned': 'text',\n",
        "    'Date': 'date'\n",
        "})\n",
        "\n",
        "# c. Konversi DataFrame ke format list of dictionaries\n",
        "output_list = df_final.to_dict('records')\n",
        "\n",
        "# d. Simpan list tersebut ke dalam file JSON\n",
        "with open(FILE_OUTPUT, 'w', encoding='utf-8') as f:\n",
        "    json.dump(output_list, f, indent=2, ensure_ascii=False)\n",
        "\n",
        "print(f\"\\nData bersih dalam format JSON berhasil disimpan di file: '{FILE_OUTPUT}'\")"
      ],
      "metadata": {
        "id": "KzevxasNOjOR",
        "colab": {
          "base_uri": "https://localhost:8080/"
        },
        "outputId": "4faea7dd-eeaf-4567-fabc-bc89961c6b0a"
      },
      "execution_count": 69,
      "outputs": [
        {
          "output_type": "stream",
          "name": "stdout",
          "text": [
            "\n",
            "Data bersih dalam format JSON berhasil disimpan di file: '/content/drive/MyDrive/dataset/debate_cleaned.json'\n"
          ]
        }
      ]
    },
    {
      "cell_type": "markdown",
      "source": [
        "## **Dataset (Menyimpan Text Transkrip ke sebuah variable)**"
      ],
      "metadata": {
        "id": "XuifnFZKPkVI"
      }
    },
    {
      "cell_type": "code",
      "source": [
        "import json\n",
        "\n",
        "\n",
        "grouped_data_json = []\n",
        "try:\n",
        "    with open(FILE_OUTPUT, 'r', encoding='utf-8') as f:\n",
        "        datas = json.load(f)\n",
        "        df = pd.DataFrame(datas)\n",
        "\n",
        "    grouped_by_date = df.groupby('date')\n",
        "\n",
        "    for date, group in grouped_by_date:\n",
        "        group_list_of_dicts = group.to_dict(orient='records')\n",
        "\n",
        "        grouped_data_json.append({\n",
        "            'date': date,\n",
        "            'entries': group_list_of_dicts\n",
        "        })\n",
        "    datas = grouped_data_json\n",
        "    print(\"Data berhasil dikelompokkan dan disimpan dalam variabel 'datas'.\")\n",
        "    # print(len(datas[0]['entries']))\n",
        "\n",
        "except FileNotFoundError:\n",
        "    print(f\"Error: File '{FILE_OUTPUT}' tidak ditemukan. Pastikan path file benar.\")\n",
        "except json.JSONDecodeError:\n",
        "    print(f\"Error: Gagal mendekode JSON dari file '{FILE_OUTPUT}'. Pastikan format JSON valid.\")\n",
        "except Exception as e:\n",
        "    print(f\"Terjadi error lain: {e}\")"
      ],
      "metadata": {
        "id": "-yc-qW9ZpwFj",
        "colab": {
          "base_uri": "https://localhost:8080/"
        },
        "outputId": "0ff7fffd-bfba-4fb0-9b29-c905e8142109"
      },
      "execution_count": 75,
      "outputs": [
        {
          "output_type": "stream",
          "name": "stdout",
          "text": [
            "Data berhasil dikelompokkan dan disimpan dalam variabel 'datas'.\n"
          ]
        }
      ]
    },
    {
      "cell_type": "markdown",
      "source": [
        "# 🛠 **Data Processing**"
      ],
      "metadata": {
        "id": "wRVz_XVcOKjb"
      }
    },
    {
      "cell_type": "markdown",
      "source": [
        "## **Install Package**"
      ],
      "metadata": {
        "id": "BmNSo9RfMHi6"
      }
    },
    {
      "cell_type": "code",
      "execution_count": null,
      "metadata": {
        "id": "2EMve22tLE1D",
        "colab": {
          "base_uri": "https://localhost:8080/"
        },
        "outputId": "06c8dda6-6b0f-4d8b-dfd6-703df386c435"
      },
      "outputs": [
        {
          "output_type": "stream",
          "name": "stdout",
          "text": [
            "Requirement already satisfied: langchain_community in /usr/local/lib/python3.11/dist-packages (0.3.26)\n",
            "Requirement already satisfied: langchain-core<1.0.0,>=0.3.66 in /usr/local/lib/python3.11/dist-packages (from langchain_community) (0.3.66)\n",
            "Requirement already satisfied: langchain<1.0.0,>=0.3.26 in /usr/local/lib/python3.11/dist-packages (from langchain_community) (0.3.26)\n",
            "Requirement already satisfied: SQLAlchemy<3,>=1.4 in /usr/local/lib/python3.11/dist-packages (from langchain_community) (2.0.41)\n",
            "Requirement already satisfied: requests<3,>=2 in /usr/local/lib/python3.11/dist-packages (from langchain_community) (2.32.3)\n",
            "Requirement already satisfied: PyYAML>=5.3 in /usr/local/lib/python3.11/dist-packages (from langchain_community) (6.0.2)\n",
            "Requirement already satisfied: aiohttp<4.0.0,>=3.8.3 in /usr/local/lib/python3.11/dist-packages (from langchain_community) (3.11.15)\n",
            "Requirement already satisfied: tenacity!=8.4.0,<10,>=8.1.0 in /usr/local/lib/python3.11/dist-packages (from langchain_community) (9.1.2)\n",
            "Requirement already satisfied: dataclasses-json<0.7,>=0.5.7 in /usr/local/lib/python3.11/dist-packages (from langchain_community) (0.6.7)\n",
            "Requirement already satisfied: pydantic-settings<3.0.0,>=2.4.0 in /usr/local/lib/python3.11/dist-packages (from langchain_community) (2.10.0)\n",
            "Requirement already satisfied: langsmith>=0.1.125 in /usr/local/lib/python3.11/dist-packages (from langchain_community) (0.3.45)\n",
            "Requirement already satisfied: httpx-sse<1.0.0,>=0.4.0 in /usr/local/lib/python3.11/dist-packages (from langchain_community) (0.4.0)\n",
            "Requirement already satisfied: numpy>=1.26.2 in /usr/local/lib/python3.11/dist-packages (from langchain_community) (2.0.2)\n",
            "Requirement already satisfied: aiohappyeyeballs>=2.3.0 in /usr/local/lib/python3.11/dist-packages (from aiohttp<4.0.0,>=3.8.3->langchain_community) (2.6.1)\n",
            "Requirement already satisfied: aiosignal>=1.1.2 in /usr/local/lib/python3.11/dist-packages (from aiohttp<4.0.0,>=3.8.3->langchain_community) (1.3.2)\n",
            "Requirement already satisfied: attrs>=17.3.0 in /usr/local/lib/python3.11/dist-packages (from aiohttp<4.0.0,>=3.8.3->langchain_community) (25.3.0)\n",
            "Requirement already satisfied: frozenlist>=1.1.1 in /usr/local/lib/python3.11/dist-packages (from aiohttp<4.0.0,>=3.8.3->langchain_community) (1.7.0)\n",
            "Requirement already satisfied: multidict<7.0,>=4.5 in /usr/local/lib/python3.11/dist-packages (from aiohttp<4.0.0,>=3.8.3->langchain_community) (6.4.4)\n",
            "Requirement already satisfied: propcache>=0.2.0 in /usr/local/lib/python3.11/dist-packages (from aiohttp<4.0.0,>=3.8.3->langchain_community) (0.3.2)\n",
            "Requirement already satisfied: yarl<2.0,>=1.17.0 in /usr/local/lib/python3.11/dist-packages (from aiohttp<4.0.0,>=3.8.3->langchain_community) (1.20.1)\n",
            "Requirement already satisfied: marshmallow<4.0.0,>=3.18.0 in /usr/local/lib/python3.11/dist-packages (from dataclasses-json<0.7,>=0.5.7->langchain_community) (3.26.1)\n",
            "Requirement already satisfied: typing-inspect<1,>=0.4.0 in /usr/local/lib/python3.11/dist-packages (from dataclasses-json<0.7,>=0.5.7->langchain_community) (0.9.0)\n",
            "Requirement already satisfied: langchain-text-splitters<1.0.0,>=0.3.8 in /usr/local/lib/python3.11/dist-packages (from langchain<1.0.0,>=0.3.26->langchain_community) (0.3.8)\n",
            "Requirement already satisfied: pydantic<3.0.0,>=2.7.4 in /usr/local/lib/python3.11/dist-packages (from langchain<1.0.0,>=0.3.26->langchain_community) (2.11.7)\n",
            "Requirement already satisfied: jsonpatch<2.0,>=1.33 in /usr/local/lib/python3.11/dist-packages (from langchain-core<1.0.0,>=0.3.66->langchain_community) (1.33)\n",
            "Requirement already satisfied: packaging<25,>=23.2 in /usr/local/lib/python3.11/dist-packages (from langchain-core<1.0.0,>=0.3.66->langchain_community) (24.2)\n",
            "Requirement already satisfied: typing-extensions>=4.7 in /usr/local/lib/python3.11/dist-packages (from langchain-core<1.0.0,>=0.3.66->langchain_community) (4.14.0)\n",
            "Requirement already satisfied: httpx<1,>=0.23.0 in /usr/local/lib/python3.11/dist-packages (from langsmith>=0.1.125->langchain_community) (0.28.1)\n",
            "Requirement already satisfied: orjson<4.0.0,>=3.9.14 in /usr/local/lib/python3.11/dist-packages (from langsmith>=0.1.125->langchain_community) (3.10.18)\n",
            "Requirement already satisfied: requests-toolbelt<2.0.0,>=1.0.0 in /usr/local/lib/python3.11/dist-packages (from langsmith>=0.1.125->langchain_community) (1.0.0)\n",
            "Requirement already satisfied: zstandard<0.24.0,>=0.23.0 in /usr/local/lib/python3.11/dist-packages (from langsmith>=0.1.125->langchain_community) (0.23.0)\n",
            "Requirement already satisfied: python-dotenv>=0.21.0 in /usr/local/lib/python3.11/dist-packages (from pydantic-settings<3.0.0,>=2.4.0->langchain_community) (1.1.0)\n",
            "Requirement already satisfied: typing-inspection>=0.4.0 in /usr/local/lib/python3.11/dist-packages (from pydantic-settings<3.0.0,>=2.4.0->langchain_community) (0.4.1)\n",
            "Requirement already satisfied: charset-normalizer<4,>=2 in /usr/local/lib/python3.11/dist-packages (from requests<3,>=2->langchain_community) (3.4.2)\n",
            "Requirement already satisfied: idna<4,>=2.5 in /usr/local/lib/python3.11/dist-packages (from requests<3,>=2->langchain_community) (3.10)\n",
            "Requirement already satisfied: urllib3<3,>=1.21.1 in /usr/local/lib/python3.11/dist-packages (from requests<3,>=2->langchain_community) (2.4.0)\n",
            "Requirement already satisfied: certifi>=2017.4.17 in /usr/local/lib/python3.11/dist-packages (from requests<3,>=2->langchain_community) (2025.6.15)\n",
            "Requirement already satisfied: greenlet>=1 in /usr/local/lib/python3.11/dist-packages (from SQLAlchemy<3,>=1.4->langchain_community) (3.2.3)\n",
            "Requirement already satisfied: anyio in /usr/local/lib/python3.11/dist-packages (from httpx<1,>=0.23.0->langsmith>=0.1.125->langchain_community) (4.9.0)\n",
            "Requirement already satisfied: httpcore==1.* in /usr/local/lib/python3.11/dist-packages (from httpx<1,>=0.23.0->langsmith>=0.1.125->langchain_community) (1.0.9)\n",
            "Requirement already satisfied: h11>=0.16 in /usr/local/lib/python3.11/dist-packages (from httpcore==1.*->httpx<1,>=0.23.0->langsmith>=0.1.125->langchain_community) (0.16.0)\n",
            "Requirement already satisfied: jsonpointer>=1.9 in /usr/local/lib/python3.11/dist-packages (from jsonpatch<2.0,>=1.33->langchain-core<1.0.0,>=0.3.66->langchain_community) (3.0.0)\n",
            "Requirement already satisfied: annotated-types>=0.6.0 in /usr/local/lib/python3.11/dist-packages (from pydantic<3.0.0,>=2.7.4->langchain<1.0.0,>=0.3.26->langchain_community) (0.7.0)\n",
            "Requirement already satisfied: pydantic-core==2.33.2 in /usr/local/lib/python3.11/dist-packages (from pydantic<3.0.0,>=2.7.4->langchain<1.0.0,>=0.3.26->langchain_community) (2.33.2)\n",
            "Requirement already satisfied: mypy-extensions>=0.3.0 in /usr/local/lib/python3.11/dist-packages (from typing-inspect<1,>=0.4.0->dataclasses-json<0.7,>=0.5.7->langchain_community) (1.1.0)\n",
            "Requirement already satisfied: sniffio>=1.1 in /usr/local/lib/python3.11/dist-packages (from anyio->httpx<1,>=0.23.0->langsmith>=0.1.125->langchain_community) (1.3.1)\n",
            "Requirement already satisfied: replicate in /usr/local/lib/python3.11/dist-packages (1.0.7)\n",
            "Requirement already satisfied: httpx<1,>=0.21.0 in /usr/local/lib/python3.11/dist-packages (from replicate) (0.28.1)\n",
            "Requirement already satisfied: packaging in /usr/local/lib/python3.11/dist-packages (from replicate) (24.2)\n",
            "Requirement already satisfied: pydantic>1.10.7 in /usr/local/lib/python3.11/dist-packages (from replicate) (2.11.7)\n",
            "Requirement already satisfied: typing_extensions>=4.5.0 in /usr/local/lib/python3.11/dist-packages (from replicate) (4.14.0)\n",
            "Requirement already satisfied: anyio in /usr/local/lib/python3.11/dist-packages (from httpx<1,>=0.21.0->replicate) (4.9.0)\n",
            "Requirement already satisfied: certifi in /usr/local/lib/python3.11/dist-packages (from httpx<1,>=0.21.0->replicate) (2025.6.15)\n",
            "Requirement already satisfied: httpcore==1.* in /usr/local/lib/python3.11/dist-packages (from httpx<1,>=0.21.0->replicate) (1.0.9)\n",
            "Requirement already satisfied: idna in /usr/local/lib/python3.11/dist-packages (from httpx<1,>=0.21.0->replicate) (3.10)\n",
            "Requirement already satisfied: h11>=0.16 in /usr/local/lib/python3.11/dist-packages (from httpcore==1.*->httpx<1,>=0.21.0->replicate) (0.16.0)\n",
            "Requirement already satisfied: annotated-types>=0.6.0 in /usr/local/lib/python3.11/dist-packages (from pydantic>1.10.7->replicate) (0.7.0)\n",
            "Requirement already satisfied: pydantic-core==2.33.2 in /usr/local/lib/python3.11/dist-packages (from pydantic>1.10.7->replicate) (2.33.2)\n",
            "Requirement already satisfied: typing-inspection>=0.4.0 in /usr/local/lib/python3.11/dist-packages (from pydantic>1.10.7->replicate) (0.4.1)\n",
            "Requirement already satisfied: sniffio>=1.1 in /usr/local/lib/python3.11/dist-packages (from anyio->httpx<1,>=0.21.0->replicate) (1.3.1)\n"
          ]
        }
      ],
      "source": [
        "!pip install langchain_community\n",
        "!pip install replicate"
      ]
    },
    {
      "cell_type": "markdown",
      "source": [
        "## **Set API Token and Granite Model**"
      ],
      "metadata": {
        "id": "fZbk0o_uMOP5"
      }
    },
    {
      "cell_type": "code",
      "source": [
        "from langchain_community.llms import Replicate\n",
        "import os\n",
        "from google.colab import userdata\n",
        "\n",
        "# Set the API token\n",
        "api_token = userdata.get('api_token')\n",
        "os.environ[\"REPLICATE_API_TOKEN\"] = api_token\n",
        "\n",
        "# Model setup\n",
        "model = \"ibm-granite/granite-3.3-8b-instruct\"\n",
        "output = Replicate(\n",
        "  model=model,\n",
        "  replicate_api_token=api_token,\n",
        ")"
      ],
      "metadata": {
        "id": "GknGhkwOZl81"
      },
      "execution_count": 91,
      "outputs": []
    },
    {
      "cell_type": "markdown",
      "source": [
        "## **Configuration of process**"
      ],
      "metadata": {
        "id": "BYWoGtMgRoKY"
      }
    },
    {
      "cell_type": "code",
      "source": [
        "# CONFIGURE PROCESS\n",
        "parameters = {\n",
        " \"top_k\": 0,\n",
        " \"top_p\": 0.9,\n",
        " \"max_tokens\": 2,\n",
        " \"min_tokens\": 0,\n",
        " \"random_seed\": 90,\n",
        " \"repetition_penalty\": 1.0,\n",
        " \"stopping_criteria\": None,\n",
        " \"stopping_sequence\": None\n",
        "}"
      ],
      "metadata": {
        "id": "Br_L1itQjpAS"
      },
      "execution_count": null,
      "outputs": []
    },
    {
      "cell_type": "markdown",
      "source": [
        "# **Prompting**"
      ],
      "metadata": {
        "id": "j9n8eg-hPxS9"
      }
    },
    {
      "cell_type": "markdown",
      "source": [
        "## Analytical result"
      ],
      "metadata": {
        "id": "c16I-vIIfJRk"
      }
    },
    {
      "cell_type": "markdown",
      "source": [
        "### Counting Percentage the dialogue each speaker"
      ],
      "metadata": {
        "id": "7HKnpqxCfLqC"
      }
    },
    {
      "cell_type": "markdown",
      "source": [
        "Process"
      ],
      "metadata": {
        "id": "uSHCYo122DDu"
      }
    },
    {
      "cell_type": "code",
      "source": [
        "import pandas as pd\n",
        "\n",
        "# --- Fungsi untuk menghitung dialog ---\n",
        "def calculate_dialogue_counts(conversation_entries):\n",
        "    \"\"\"\n",
        "    Menghitung jumlah dialog untuk setiap speaker dalam daftar entri percakapan.\n",
        "\n",
        "    Args:\n",
        "        conversation_entries (list): List of dictionaries, each representing a speaking turn.\n",
        "                                     Expected format: [{'speaker': 'Name', 'text': '...'}]\n",
        "\n",
        "    Returns:\n",
        "        dict: A dictionary where keys are speaker names and values are their dialogue counts.\n",
        "              Returns an empty dictionary if input is invalid or empty.\n",
        "    \"\"\"\n",
        "    dialogue_counts = {}\n",
        "    last_speaker = None\n",
        "\n",
        "    if not isinstance(conversation_entries, list) or not conversation_entries:\n",
        "        print(\"Warning: Invalid or empty conversation_entries provided. Returning empty counts.\")\n",
        "        return {}\n",
        "\n",
        "    for entry in conversation_entries:\n",
        "        speaker_name = entry.get('speaker')\n",
        "\n",
        "        if speaker_name is None:\n",
        "            continue\n",
        "\n",
        "        if speaker_name != last_speaker:\n",
        "            dialogue_counts[speaker_name] = dialogue_counts.get(speaker_name, 0) + 1\n",
        "            last_speaker = speaker_name\n",
        "\n",
        "    return dialogue_counts\n",
        "\n",
        "counts_0 = calculate_dialogue_counts(datas[0]['entries'])\n",
        "counts_1 = calculate_dialogue_counts(datas[1]['entries'])\n",
        "counts_2 = calculate_dialogue_counts(datas[2]['entries'])\n",
        "\n",
        "clinton_count = counts_0.get('Clinton', 0) + counts_1.get('Clinton', 0) + counts_2.get('Clinton', 0)\n",
        "trump_count = counts_0.get('Trump', 0) + counts_1.get('Trump', 0) + counts_2.get('Trump', 0)"
      ],
      "metadata": {
        "id": "RM_XN5zrfWOU"
      },
      "execution_count": 74,
      "outputs": []
    },
    {
      "cell_type": "markdown",
      "source": [
        "Show the output"
      ],
      "metadata": {
        "id": "j0QHAOfO2PLt"
      }
    },
    {
      "cell_type": "code",
      "source": [
        "prompt = f\"\"\"\n",
        "Calculate the percentage contribution of each speaker based on their dialogue counts.\n",
        "Given the following dialogue counts:\n",
        "Clinton: {clinton_count} dialogues\n",
        "Trump: {trump_count} dialogues\n",
        "\n",
        "the output just number value.\n",
        "\n",
        "Output Format:\n",
        "* Clinton: [percentage]\n",
        "* Trump: [percentage]\n",
        "\"\"\"\n",
        "\n",
        "# response = output.invoke(prompt)\n",
        "\n",
        "print(\"Granite Model Response:\\n\")\n",
        "print(response)"
      ],
      "metadata": {
        "colab": {
          "base_uri": "https://localhost:8080/"
        },
        "id": "0fv8OjzX2SCk",
        "outputId": "a3325d16-9416-4879-c213-d24ee90309b1"
      },
      "execution_count": 107,
      "outputs": [
        {
          "output_type": "stream",
          "name": "stdout",
          "text": [
            "Granite Model Response:\n",
            "\n",
            "* Clinton: 50%\n",
            "* Trump: 50%\n"
          ]
        }
      ]
    },
    {
      "cell_type": "markdown",
      "source": [
        "### Summarize the topic"
      ],
      "metadata": {
        "id": "ejccmVCyKSJx"
      }
    },
    {
      "cell_type": "markdown",
      "source": [
        "Process"
      ],
      "metadata": {
        "id": "2LVxkjPIA8vp"
      }
    },
    {
      "cell_type": "code",
      "source": [
        "# Prompting\n",
        "data1 = \"\\n\".join([\n",
        "    f\"{data['speaker']}: {data['text']}\"\n",
        "    for i, data in enumerate(datas[0]['entries'])\n",
        "])\n",
        "\n",
        "data2 = \"\\n\".join([\n",
        "    f\"{data['speaker']}: {data['text']}\"\n",
        "    for i, data in enumerate(datas[1]['entries'])\n",
        "\n",
        "])\n",
        "\n",
        "data3 = \"\\n\".join([\n",
        "    f\"{data['speaker']}: {data['text']}\"\n",
        "    for i, data in enumerate(datas[2]['entries'])\n",
        "])\n",
        "\n",
        "prompt1 = f\"\"\"\n",
        "Provide a concise, two-sentence summary of the key arguments and main points raised by each speaker in the following conversation transcript.\n",
        "Focus on their distinct contributions and perspectives.\n",
        "\n",
        "---\n",
        "**Conversation Transcript:**\n",
        "{data1}\n",
        "---\n",
        "\n",
        "**Output Format:**\n",
        "- **[Name of Speaker 1]:** Summarize their key arguments in 2 concise sentences.\n",
        "- **[Name of Speaker 2]:** Summarize their key arguments in 2 concise sentences.\n",
        "\"\"\"\n",
        "\n",
        "prompt2 = f\"\"\"\n",
        "Provide a concise, two-sentence summary of the key arguments and main points raised by each speaker in the following conversation transcript.\n",
        "Focus on their distinct contributions and perspectives.\n",
        "\n",
        "---\n",
        "**Conversation Transcript:**\n",
        "{data2}\n",
        "---\n",
        "\n",
        "**Output Format:**\n",
        "- **[Name of Speaker 1]:** Summarize their key arguments in 2 concise sentences.\n",
        "- **[Name of Speaker 2]:** Summarize their key arguments in 2 concise sentences.\n",
        "\"\"\"\n",
        "\n",
        "prompt3 = f\"\"\"\n",
        "Provide a concise, two-sentence summary of the key arguments and main points raised by each speaker in the following conversation transcript.\n",
        "Focus on their distinct contributions and perspectives.\n",
        "\n",
        "---\n",
        "**Conversation Transcript:**\n",
        "{data3}\n",
        "---\n",
        "\n",
        "**Output Format:**\n",
        "- **[Name of Speaker 1]:** Summarize their key arguments in 2 concise sentences.\n",
        "- **[Name of Speaker 2]:** Summarize their key arguments in 2 concise sentences.\n",
        "\"\"\"\n",
        "\n",
        "parameters = {\n",
        " \"top_k\": 0,\n",
        " \"top_p\": 1.0,\n",
        " \"max_tokens\": 2,\n",
        " \"min_tokens\": 0,\n",
        " \"random_seed\": None,\n",
        " \"repetition_penalty\": 1.0,\n",
        " \"stopping_criteria\": None,\n",
        " \"stopping_sequence\": None\n",
        "}"
      ],
      "metadata": {
        "id": "xYZK8Jh5PupG",
        "colab": {
          "base_uri": "https://localhost:8080/"
        },
        "outputId": "7c7a1f09-fcee-41b5-ddbf-540997673f98"
      },
      "execution_count": 103,
      "outputs": [
        {
          "output_type": "stream",
          "name": "stdout",
          "text": [
            "Granite Model Response:\n",
            "\n",
            "=> Summary of first debate\n",
            "**Clinton:** Clinton emphasized the importance of the Supreme Court upholding citizens' rights, including women's rights, LGBT rights, and the affordability of healthcare. She advocated for a Supreme Court that stands against Citizens United, supports Roe v. Wade, and opposes reversing marriage equality. She also highlighted the need for reasonable gun control measures while respecting the Second Amendment.\n",
            "\n",
            "**Trump:** Trump underscored the necessity of appointing conservative justices who will uphold the Second Amendment and interpret the Constitution as the Founding Fathers intended. He pledged to protect the Second Amendment from being \"a very small replica\" under his opponent and criticized the Heller decision, which he claimed Clinton disagreed with due to its impact on reasonable regulations. Trump also emphasized the importance of strong borders and securing them, suggesting that he would build a wall and appoint pro-life judges.\n",
            " \n",
            "=> Summary of second debate\n",
            "**Hillary Clinton:**\n",
            "- Clinton emphasized unity, respect, and working together to achieve common goals, contrasting her optimistic approach with perceived divisiveness in Trump's campaign. She pledged to be a president for all Americans, focusing on economic growth, education reform, and celebrating diversity.\n",
            "- Clinton criticized Trump's character and fitness for the presidency, citing his disrespect towards women, minorities, and POWs, as well as his lack of contrition for past offensive remarks and actions, which she argued disqualify him from the office.\n",
            "\n",
            "**Donald Trump:**\n",
            "- Trump echoed Clinton's sentiment that America is great, attributing his newfound political awareness to his dissatisfaction with the country's current state. He outlined his plan to \"Make America Great Again\" by focusing on economic recovery, strong borders, law and order, and improving inner cities.\n",
            "- Trump defended his controversial statements, framing them as \"locker room talk\" and emphasizing his respect for women, while attacking Clinton's record on various issues, including her email scandal, judgment in foreign policy, and accepting donations during her tenure as Secretary of State. He also accused Clinton of hypocrisy and poor decision-making, pledging to appoint Supreme Court justices in the mold of Justice Scalia and prioritize energy independence.\n",
            " \n",
            "=> Summary of third debate\n",
            "- **Clinton:** Clinton emphasized building an economy that works for everyone, focusing on creating new jobs in infrastructure, manufacturing, innovation, and clean energy, while also advocating for fairness through raising the minimum wage, equal pay for women, profit-sharing, and supporting families with paid leave, sick days, affordable childcare, and debt-free college. She plans to fund these initiatives by having the wealthy pay their fair share and closing corporate loopholes. Clinton also criticized Trump's economic proposals as a form of \"trumped-up trickle-down economics\" that would add $5 trillion to the debt and lose 35 million jobs.\n",
            "\n",
            "- **Trump:** Trump highlighted the issue of jobs leaving the country due to unfair trade practices by countries like China and Mexico, proposing to renegotiate trade deals, impose taxes on imported goods, and reduce corporate taxes to stimulate job growth. He accused Clinton of supporting policies that led to job losses in the past and criticized her lack of action on trade issues for 30 years. Trump also emphasized the importance of reducing regulations to encourage business growth and expressed skepticism about Clinton's plans, suggesting they would not create jobs or improve the economy.\n"
          ]
        }
      ]
    },
    {
      "cell_type": "markdown",
      "source": [
        "Output"
      ],
      "metadata": {
        "id": "JHsrZ_r4BtjV"
      }
    },
    {
      "cell_type": "code",
      "source": [
        "\n",
        "# Invoke the model\n",
        "# response_summarize1 = output.invoke(prompt1, parameters=parameters)\n",
        "# response_summarize2 = output.invoke(prompt2, parameters=parameters)\n",
        "# response_summarize3 = output.invoke(prompt3, parameters=parameters)\n",
        "\n",
        "# Print the response\n",
        "print(\"Granite Model Response:\\n\")\n",
        "print('A. Summary of first debate')\n",
        "print(response_summarize1)\n",
        "print(' ')\n",
        "print('B. Summary of second debate')\n",
        "print(response_summarize2)\n",
        "print(' ')\n",
        "print('C. Summary of third debate')\n",
        "print(response_summarize3)"
      ],
      "metadata": {
        "colab": {
          "base_uri": "https://localhost:8080/"
        },
        "id": "dpaC6ThHBw25",
        "outputId": "b19a5830-4142-482d-a344-e288a8b4bdd4"
      },
      "execution_count": 109,
      "outputs": [
        {
          "output_type": "stream",
          "name": "stdout",
          "text": [
            "Granite Model Response:\n",
            "\n",
            "A. Summary of first debate\n",
            "**Clinton:** Clinton emphasized the importance of the Supreme Court upholding citizens' rights, including women's rights, LGBT rights, and the affordability of healthcare. She advocated for a Supreme Court that stands against Citizens United, supports Roe v. Wade, and opposes reversing marriage equality. She also highlighted the need for reasonable gun control measures while respecting the Second Amendment.\n",
            "\n",
            "**Trump:** Trump underscored the necessity of appointing conservative justices who will uphold the Second Amendment and interpret the Constitution as the Founding Fathers intended. He pledged to protect the Second Amendment from being \"a very small replica\" under his opponent and criticized the Heller decision, which he claimed Clinton disagreed with due to its impact on reasonable regulations. Trump also emphasized the importance of strong borders and securing them, suggesting that he would build a wall and appoint pro-life judges.\n",
            " \n",
            "B. Summary of second debate\n",
            "**Hillary Clinton:**\n",
            "- Clinton emphasized unity, respect, and working together to achieve common goals, contrasting her optimistic approach with perceived divisiveness in Trump's campaign. She pledged to be a president for all Americans, focusing on economic growth, education reform, and celebrating diversity.\n",
            "- Clinton criticized Trump's character and fitness for the presidency, citing his disrespect towards women, minorities, and POWs, as well as his lack of contrition for past offensive remarks and actions, which she argued disqualify him from the office.\n",
            "\n",
            "**Donald Trump:**\n",
            "- Trump echoed Clinton's sentiment that America is great, attributing his newfound political awareness to his dissatisfaction with the country's current state. He outlined his plan to \"Make America Great Again\" by focusing on economic recovery, strong borders, law and order, and improving inner cities.\n",
            "- Trump defended his controversial statements, framing them as \"locker room talk\" and emphasizing his respect for women, while attacking Clinton's record on various issues, including her email scandal, judgment in foreign policy, and accepting donations during her tenure as Secretary of State. He also accused Clinton of hypocrisy and poor decision-making, pledging to appoint Supreme Court justices in the mold of Justice Scalia and prioritize energy independence.\n",
            " \n",
            "C. Summary of third debate\n",
            "- **Clinton:** Clinton emphasized building an economy that works for everyone, focusing on creating new jobs in infrastructure, manufacturing, innovation, and clean energy, while also advocating for fairness through raising the minimum wage, equal pay for women, profit-sharing, and supporting families with paid leave, sick days, affordable childcare, and debt-free college. She plans to fund these initiatives by having the wealthy pay their fair share and closing corporate loopholes. Clinton also criticized Trump's economic proposals as a form of \"trumped-up trickle-down economics\" that would add $5 trillion to the debt and lose 35 million jobs.\n",
            "\n",
            "- **Trump:** Trump highlighted the issue of jobs leaving the country due to unfair trade practices by countries like China and Mexico, proposing to renegotiate trade deals, impose taxes on imported goods, and reduce corporate taxes to stimulate job growth. He accused Clinton of supporting policies that led to job losses in the past and criticized her lack of action on trade issues for 30 years. Trump also emphasized the importance of reducing regulations to encourage business growth and expressed skepticism about Clinton's plans, suggesting they would not create jobs or improve the economy.\n"
          ]
        }
      ]
    }
  ]
}